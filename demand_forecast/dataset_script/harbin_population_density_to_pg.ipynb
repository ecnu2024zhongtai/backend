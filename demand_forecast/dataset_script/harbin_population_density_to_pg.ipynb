{
 "cells": [
  {
   "cell_type": "code",
   "execution_count": 13,
   "metadata": {},
   "outputs": [
    {
     "name": "stdout",
     "output_type": "stream",
     "text": [
      "边界文件坐标系: EPSG:4326\n",
      "栅格文件坐标系: EPSG:4326\n"
     ]
    }
   ],
   "source": [
    "import geopandas as gpd\n",
    "import rasterio\n",
    "\n",
    "tif_path = \"./landscan/landscan-global-2015.tif\"\n",
    "geo_path = \"./landscan/harbin2.geojson\"\n",
    "\n",
    "# 读取边界文件（Shapefile 或 GeoJSON）\n",
    "boundary = gpd.read_file(geo_path)\n",
    "\n",
    "# 读取栅格数据并获取其坐标系\n",
    "with rasterio.open(tif_path) as src:\n",
    "    raster_crs = src.crs\n",
    "\n",
    "# 如果坐标系不同，则转换 GeoJSON 文件\n",
    "if boundary.crs != raster_crs:\n",
    "    boundary = boundary.to_crs(raster_crs)\n",
    "    print(\"GeoJSON 文件已转换为栅格数据的坐标系:\", boundary.crs)\n",
    "\n",
    "print(\"边界文件坐标系:\", boundary.crs)\n",
    "print(\"栅格文件坐标系:\", raster_crs)"
   ]
  },
  {
   "cell_type": "code",
   "execution_count": 14,
   "metadata": {},
   "outputs": [],
   "source": [
    "from rasterio.mask import mask\n",
    "# 裁剪栅格数据\n",
    "with rasterio.open(tif_path) as src:\n",
    "    out_image, out_transform = mask(src, boundary.geometry, crop=True)\n",
    "    out_meta = src.meta.copy()\n",
    "\n",
    "# 更新元数据\n",
    "out_meta.update({\n",
    "    \"driver\": \"GTiff\",\n",
    "    \"height\": out_image.shape[1],\n",
    "    \"width\": out_image.shape[2],\n",
    "    \"transform\": out_transform\n",
    "})\n",
    "\n",
    "# 保存裁剪后的栅格\n",
    "output_tif = \"clipped_harbin_landscan_data.tif\"\n",
    "with rasterio.open(output_tif, \"w\", **out_meta) as dest:\n",
    "    dest.write(out_image)"
   ]
  },
  {
   "cell_type": "code",
   "execution_count": 18,
   "metadata": {},
   "outputs": [
    {
     "name": "stdout",
     "output_type": "stream",
     "text": [
      "202\n",
      "25\n",
      "87\n",
      "161\n"
     ]
    },
    {
     "ename": "KeyboardInterrupt",
     "evalue": "",
     "output_type": "error",
     "traceback": [
      "\u001b[0;31m---------------------------------------------------------------------------\u001b[0m",
      "\u001b[0;31mKeyboardInterrupt\u001b[0m                         Traceback (most recent call last)",
      "Cell \u001b[0;32mIn[18], line 16\u001b[0m\n\u001b[1;32m     14\u001b[0m \u001b[38;5;28;01mfor\u001b[39;00m col \u001b[38;5;129;01min\u001b[39;00m \u001b[38;5;28mrange\u001b[39m(cols):\n\u001b[1;32m     15\u001b[0m     value \u001b[38;5;241m=\u001b[39m population_data[row, col]\n\u001b[0;32m---> 16\u001b[0m     \u001b[38;5;28;01mif\u001b[39;00m value \u001b[38;5;241m>\u001b[39m \u001b[38;5;241m0\u001b[39m:  \u001b[38;5;66;03m# 过滤无效值\u001b[39;00m\n\u001b[1;32m     17\u001b[0m         lon, lat \u001b[38;5;241m=\u001b[39m xy(transform, row, col, offset\u001b[38;5;241m=\u001b[39m\u001b[38;5;124m'\u001b[39m\u001b[38;5;124mcenter\u001b[39m\u001b[38;5;124m'\u001b[39m)\n\u001b[1;32m     18\u001b[0m         data\u001b[38;5;241m.\u001b[39mappend((\u001b[38;5;124mf\u001b[39m\u001b[38;5;124m'\u001b[39m\u001b[38;5;124mSRID=4326;POINT(\u001b[39m\u001b[38;5;132;01m{\u001b[39;00mlon\u001b[38;5;132;01m}\u001b[39;00m\u001b[38;5;124m \u001b[39m\u001b[38;5;132;01m{\u001b[39;00mlat\u001b[38;5;132;01m}\u001b[39;00m\u001b[38;5;124m)\u001b[39m\u001b[38;5;124m'\u001b[39m, \u001b[38;5;28mint\u001b[39m(value)))\n",
      "File \u001b[0;32m~/anaconda3/envs/pytorch/lib/python3.12/site-packages/debugpy/_vendored/pydevd/_pydevd_bundle/pydevd_frame.py:1197\u001b[0m, in \u001b[0;36mPyDBFrame.trace_dispatch\u001b[0;34m(self, frame, event, arg)\u001b[0m\n\u001b[1;32m   1195\u001b[0m \u001b[38;5;28;01mif\u001b[39;00m is_line:\n\u001b[1;32m   1196\u001b[0m     \u001b[38;5;28mself\u001b[39m\u001b[38;5;241m.\u001b[39mset_suspend(thread, step_cmd, original_step_cmd\u001b[38;5;241m=\u001b[39minfo\u001b[38;5;241m.\u001b[39mpydev_original_step_cmd)\n\u001b[0;32m-> 1197\u001b[0m     \u001b[38;5;28mself\u001b[39m\u001b[38;5;241m.\u001b[39mdo_wait_suspend(thread, frame, event, arg)\n\u001b[1;32m   1198\u001b[0m \u001b[38;5;28;01melif\u001b[39;00m is_return:  \u001b[38;5;66;03m# return event\u001b[39;00m\n\u001b[1;32m   1199\u001b[0m     back \u001b[38;5;241m=\u001b[39m frame\u001b[38;5;241m.\u001b[39mf_back\n",
      "File \u001b[0;32m~/anaconda3/envs/pytorch/lib/python3.12/site-packages/debugpy/_vendored/pydevd/_pydevd_bundle/pydevd_frame.py:165\u001b[0m, in \u001b[0;36mPyDBFrame.do_wait_suspend\u001b[0;34m(self, *args, **kwargs)\u001b[0m\n\u001b[1;32m    164\u001b[0m \u001b[38;5;28;01mdef\u001b[39;00m \u001b[38;5;21mdo_wait_suspend\u001b[39m(\u001b[38;5;28mself\u001b[39m, \u001b[38;5;241m*\u001b[39margs, \u001b[38;5;241m*\u001b[39m\u001b[38;5;241m*\u001b[39mkwargs):\n\u001b[0;32m--> 165\u001b[0m     \u001b[38;5;28mself\u001b[39m\u001b[38;5;241m.\u001b[39m_args[\u001b[38;5;241m0\u001b[39m]\u001b[38;5;241m.\u001b[39mdo_wait_suspend(\u001b[38;5;241m*\u001b[39margs, \u001b[38;5;241m*\u001b[39m\u001b[38;5;241m*\u001b[39mkwargs)\n",
      "File \u001b[0;32m~/anaconda3/envs/pytorch/lib/python3.12/site-packages/debugpy/_vendored/pydevd/pydevd.py:2070\u001b[0m, in \u001b[0;36mPyDB.do_wait_suspend\u001b[0;34m(self, thread, frame, event, arg, exception_type)\u001b[0m\n\u001b[1;32m   2067\u001b[0m             from_this_thread\u001b[38;5;241m.\u001b[39mappend(frame_custom_thread_id)\n\u001b[1;32m   2069\u001b[0m     \u001b[38;5;28;01mwith\u001b[39;00m \u001b[38;5;28mself\u001b[39m\u001b[38;5;241m.\u001b[39m_threads_suspended_single_notification\u001b[38;5;241m.\u001b[39mnotify_thread_suspended(thread_id, thread, stop_reason):\n\u001b[0;32m-> 2070\u001b[0m         keep_suspended \u001b[38;5;241m=\u001b[39m \u001b[38;5;28mself\u001b[39m\u001b[38;5;241m.\u001b[39m_do_wait_suspend(thread, frame, event, arg, suspend_type, from_this_thread, frames_tracker)\n\u001b[1;32m   2072\u001b[0m frames_list \u001b[38;5;241m=\u001b[39m \u001b[38;5;28;01mNone\u001b[39;00m\n\u001b[1;32m   2074\u001b[0m \u001b[38;5;28;01mif\u001b[39;00m keep_suspended:\n\u001b[1;32m   2075\u001b[0m     \u001b[38;5;66;03m# This means that we should pause again after a set next statement.\u001b[39;00m\n",
      "File \u001b[0;32m~/anaconda3/envs/pytorch/lib/python3.12/site-packages/debugpy/_vendored/pydevd/pydevd.py:2106\u001b[0m, in \u001b[0;36mPyDB._do_wait_suspend\u001b[0;34m(self, thread, frame, event, arg, suspend_type, from_this_thread, frames_tracker)\u001b[0m\n\u001b[1;32m   2103\u001b[0m         \u001b[38;5;28mself\u001b[39m\u001b[38;5;241m.\u001b[39m_call_input_hook()\n\u001b[1;32m   2105\u001b[0m     \u001b[38;5;28mself\u001b[39m\u001b[38;5;241m.\u001b[39mprocess_internal_commands()\n\u001b[0;32m-> 2106\u001b[0m     time\u001b[38;5;241m.\u001b[39msleep(\u001b[38;5;241m0.01\u001b[39m)\n\u001b[1;32m   2108\u001b[0m \u001b[38;5;28mself\u001b[39m\u001b[38;5;241m.\u001b[39mcancel_async_evaluation(get_current_thread_id(thread), \u001b[38;5;28mstr\u001b[39m(\u001b[38;5;28mid\u001b[39m(frame)))\n\u001b[1;32m   2110\u001b[0m \u001b[38;5;66;03m# process any stepping instructions\u001b[39;00m\n",
      "\u001b[0;31mKeyboardInterrupt\u001b[0m: "
     ]
    }
   ],
   "source": [
    "from rasterio.transform import xy\n",
    "tif_path = \"clipped_harbin_landscan_data.tif\"\n",
    "with rasterio.open(tif_path) as src:\n",
    "    population_data = src.read(1)  # 读取第一波段（人口密度）\n",
    "    transform = src.transform     # 获取仿射变换\n",
    "    crs = src.crs\n",
    "\n",
    "# \n",
    "\n",
    "# 准备数据\n",
    "data = []\n",
    "rows, cols = population_data.shape\n",
    "for row in range(rows):\n",
    "    for col in range(cols):\n",
    "        value = population_data[row, col]\n",
    "        if value > 0:  # 过滤无效值\n",
    "            lon, lat = xy(transform, row, col, offset='center')\n",
    "            data.append((f'SRID=4326;POINT({lon} {lat})', int(value)))\n",
    "            print(value)\n",
    "\n",
    "print(len(data))"
   ]
  },
  {
   "cell_type": "code",
   "execution_count": 11,
   "metadata": {},
   "outputs": [
    {
     "name": "stdout",
     "output_type": "stream",
     "text": [
      "3581\n"
     ]
    }
   ],
   "source": [
    "print(len(data))"
   ]
  },
  {
   "cell_type": "code",
   "execution_count": 19,
   "metadata": {},
   "outputs": [
    {
     "name": "stdout",
     "output_type": "stream",
     "text": [
      "SQLite 数据库文件已创建并包含表结构。\n"
     ]
    }
   ],
   "source": [
    "import sqlite3\n",
    "\n",
    "# 创建或连接到名为 \"landscan_harbin.db\" 的 SQLite 文件\n",
    "conn = sqlite3.connect(\"landscan_harbin.db\")\n",
    "\n",
    "# 创建游标对象，用于执行 SQL 语句\n",
    "cur = conn.cursor()\n",
    "\n",
    "# 创建数据表\n",
    "cur.execute(\"\"\"\n",
    "CREATE TABLE IF NOT EXISTS harbinpp (\n",
    "    id INTEGER PRIMARY KEY AUTOINCREMENT,\n",
    "    longitude REAL,\n",
    "    latitude REAL,\n",
    "    population_density INTEGER\n",
    ")\n",
    "\"\"\")\n",
    "\n",
    "# 提交更改并关闭游标\n",
    "conn.commit()\n",
    "cur.close()\n",
    "\n",
    "print(\"SQLite 数据库文件已创建并包含表结构。\") "
   ]
  },
  {
   "cell_type": "code",
   "execution_count": 20,
   "metadata": {},
   "outputs": [
    {
     "name": "stdout",
     "output_type": "stream",
     "text": [
      "数据已成功插入 SQLite 数据库文件！\n"
     ]
    }
   ],
   "source": [
    "import rasterio\n",
    "from rasterio.transform import xy\n",
    "\n",
    "# 重新连接数据库\n",
    "conn = sqlite3.connect(\"landscan_harbin.db\")\n",
    "cur = conn.cursor()\n",
    "\n",
    "# 读取裁剪后的 LandScan 数据\n",
    "tif_path = \"clipped_harbin_landscan_data.tif\"\n",
    "with rasterio.open(tif_path) as src:\n",
    "    population_data = src.read(1)  # 读取第一波段\n",
    "    transform = src.transform\n",
    "\n",
    "# 准备数据\n",
    "data = []\n",
    "rows, cols = population_data.shape\n",
    "\n",
    "for row in range(rows):\n",
    "    for col in range(cols):\n",
    "        value = population_data[row, col]\n",
    "        if value > 0:  # 过滤无效值\n",
    "            lon, lat = xy(transform, row, col, offset='center')\n",
    "            data.append((lon, lat, int(value)))\n",
    "\n",
    "# 批量插入数据\n",
    "cur.executemany(\"INSERT INTO harbinpp (longitude, latitude, population_density) VALUES (?, ?, ?)\", data)\n",
    "conn.commit()\n",
    "\n",
    "# 关闭连接\n",
    "cur.close()\n",
    "conn.close()\n",
    "\n",
    "print(\"数据已成功插入 SQLite 数据库文件！\")"
   ]
  },
  {
   "cell_type": "code",
   "execution_count": 25,
   "metadata": {},
   "outputs": [
    {
     "name": "stdout",
     "output_type": "stream",
     "text": [
      "表 'harbinpp' 创建成功！\n"
     ]
    }
   ],
   "source": [
    "import psycopg2\n",
    "\n",
    "# 数据库连接参数\n",
    "db_params = {\n",
    "    'dbname': 'harbintrips',  # 连接到默认的 postgres 数据库\n",
    "    'user': 'username',   # 替换为你的用户名\n",
    "    'password': 'password', # 替换为你的密码\n",
    "    'host': 'localhost',\n",
    "    'port': '5432'\n",
    "}\n",
    "\n",
    "# 创建连接\n",
    "try:\n",
    "    conn = psycopg2.connect(**db_params)\n",
    "    cur = conn.cursor()\n",
    "\n",
    "    # 创建表 SQL 语句\n",
    "    create_table_query = \"\"\"\n",
    "    CREATE TABLE IF NOT EXISTS harbinpp (\n",
    "        id SERIAL PRIMARY KEY,               -- 自动递增的主键\n",
    "        longitude DOUBLE PRECISION NOT NULL, -- 经度（地理坐标）\n",
    "        latitude DOUBLE PRECISION NOT NULL,  -- 纬度（地理坐标）\n",
    "        population_density INTEGER NOT NULL,  -- 人口密度\n",
    "        timestamp BIGINT          -- 数据时间版本（时间戳）\n",
    "    );\n",
    "    \"\"\"\n",
    "\n",
    "    # 执行创建表的 SQL\n",
    "    cur.execute(create_table_query)\n",
    "    conn.commit()\n",
    "\n",
    "    print(\"表 'harbinpp' 创建成功！\")\n",
    "\n",
    "except Exception as e:\n",
    "    print(\"发生错误：\", e)\n",
    "\n",
    "finally:\n",
    "    # 关闭连接\n",
    "    if cur:\n",
    "        cur.close()\n",
    "    if conn:\n",
    "        conn.close()\n"
   ]
  },
  {
   "cell_type": "code",
   "execution_count": 29,
   "metadata": {},
   "outputs": [
    {
     "name": "stdout",
     "output_type": "stream",
     "text": [
      "数据插入成功！\n"
     ]
    }
   ],
   "source": [
    "# 读取裁剪后的 LandScan 数据\n",
    "tif_path = \"clipped_harbin_landscan_data.tif\"\n",
    "with rasterio.open(tif_path) as src:\n",
    "    population_data = src.read(1)  # 读取第一波段\n",
    "    transform = src.transform\n",
    "\n",
    "# 准备数据\n",
    "data = []\n",
    "rows, cols = population_data.shape\n",
    "\n",
    "for row in range(rows):\n",
    "    for col in range(cols):\n",
    "        value = population_data[row, col]\n",
    "        if value > 0:  # 过滤无效值\n",
    "            lon, lat = xy(transform, row, col, offset='center')\n",
    "            data.append((lon, lat, int(value), 1420070400000))\n",
    "\n",
    "\n",
    "import psycopg2\n",
    "\n",
    "# 数据库连接参数\n",
    "db_params = {\n",
    "    'dbname': 'harbintrips',  # 连接到默认的 postgres 数据库\n",
    "    'user': 'username',   # 替换为你的用户名\n",
    "    'password': 'password', # 替换为你的密码\n",
    "    'host': 'localhost',\n",
    "    'port': '5432'\n",
    "}\n",
    "\n",
    "# 创建连接\n",
    "try:\n",
    "    conn = psycopg2.connect(**db_params)\n",
    "    cur = conn.cursor()\n",
    "\n",
    "    # 插入数据，并显式指定时间戳\n",
    "    insert_query = \"\"\"\n",
    "    INSERT INTO harbinpp (longitude, latitude, population_density, timestamp)\n",
    "    VALUES (%s, %s, %s, %s);\n",
    "    \"\"\"\n",
    "    for record in data:\n",
    "        cur.execute(insert_query, record)\n",
    "        conn.commit()  # 提交每一条插入\n",
    "\n",
    "\n",
    "    print(\"数据插入成功！\")\n",
    "\n",
    "except Exception as e:\n",
    "    print(\"发生错误：\", e)\n",
    "\n",
    "finally:\n",
    "    # 关闭连接\n",
    "    if cur:\n",
    "        cur.close()\n",
    "    if conn:\n",
    "        conn.close()"
   ]
  },
  {
   "cell_type": "code",
   "execution_count": null,
   "metadata": {},
   "outputs": [],
   "source": [
    "###\n",
    "# 45.40416666666613  45.41249999999946  0.008333333 45.4 \n",
    "# 46.09583333333279  46.08749999999946  0.008333333 46.1\n",
    "# 127.05416666666545 127.04583333333213 0.008333333 127.058333333\n",
    "# 126.0874999999988  126.09583333333212 0.008333333 126.083333333\n",
    "###\n",
    "\n",
    "# (45.40416666666613 - 45.4)/0.008333333\n",
    "# (46.09583333333279 - 45.40416666666613) / 0.008333333 = 83\n",
    "# (127.05416666666545 - 126.0874999999988) / 0.008333333 = 116\n",
    "\n",
    "# 24*60/10 = 144\n",
    "# 横向以空间坐标为划分，纵向以时间每10分钟为划分 做聚类\n",
    "\n",
    "# UPDATE harbinpp\n",
    "# SET lon_index = CEIL((longitude - 126.083333333) / 0.008333333),\n",
    "#     lat_index = CEIL((latitude - 45.4) / 0.008333333);\n",
    "import psycopg2\n",
    "\n",
    "lat_index = 1\n",
    "lat1 = 45.4\n",
    "lat2 = 45.4 + 0.008333333 * lat_index\n",
    "\n",
    "lon_index = 1\n",
    "lon1 = 126.083333333 + 0.008333333 * lon_index\n",
    "\n",
    "#1420243200  1.03\n",
    "#1420329600  1.04\n",
    "#1420416000  1.05\n",
    "#1420502400  1.06\n",
    "#1420588800  1.07\n",
    "\n"
   ]
  }
 ],
 "metadata": {
  "kernelspec": {
   "display_name": "pytorch",
   "language": "python",
   "name": "python3"
  },
  "language_info": {
   "codemirror_mode": {
    "name": "ipython",
    "version": 3
   },
   "file_extension": ".py",
   "mimetype": "text/x-python",
   "name": "python",
   "nbconvert_exporter": "python",
   "pygments_lexer": "ipython3",
   "version": "3.12.4"
  }
 },
 "nbformat": 4,
 "nbformat_minor": 2
}
