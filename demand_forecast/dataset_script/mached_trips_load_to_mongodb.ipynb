{
 "cells": [
  {
   "cell_type": "code",
   "execution_count": 21,
   "metadata": {},
   "outputs": [
    {
     "data": {
      "text/plain": [
       "Collection(Database(Client(URI(\"mongodb://localhost:27017/\")), \"harbintrips\"), \"trips2_07\")"
      ]
     },
     "metadata": {},
     "output_type": "display_data"
    }
   ],
   "source": [
    "using Mongoc\n",
    "\n",
    "client = Mongoc.Client(\"mongodb://localhost:27017/\")\n",
    "\n",
    "Mongoc.ping(client)\n",
    "\n",
    "database =  client[\"harbintrips\"]\n",
    "collection = database[\"trips2_07\"]\n",
    "\n",
    "\n",
    "\n",
    "\n",
    "\n"
   ]
  },
  {
   "cell_type": "code",
   "execution_count": 8,
   "metadata": {},
   "outputs": [],
   "source": [
    "using JLD2\n"
   ]
  },
  {
   "cell_type": "code",
   "execution_count": 22,
   "metadata": {},
   "outputs": [
    {
     "name": "stdout",
     "output_type": "stream",
     "text": [
      "251601\n"
     ]
    }
   ],
   "source": [
    "\n",
    "jldfilepath = \"/path/to/zhongtai/data/trips2/trips_150107.jld2\" \n",
    "\n",
    "dataset = load(jldfilepath)\n",
    "println\n",
    "println(length(dataset[\"trips\"]))\n",
    "\n"
   ]
  },
  {
   "cell_type": "code",
   "execution_count": 23,
   "metadata": {},
   "outputs": [
    {
     "name": "stdout",
     "output_type": "stream",
     "text": [
      "[126.68132, 126.67669, 126.67118, 126.666824, 126.66343, 126.65931, 126.656906, 126.65229, 126.652885, 126.6568, 126.65741]\n"
     ]
    }
   ],
   "source": [
    "trips = dataset[\"trips\"]\n",
    "trip = trips[1]\n",
    "println(trip.lon)"
   ]
  },
  {
   "cell_type": "code",
   "execution_count": 19,
   "metadata": {},
   "outputs": [],
   "source": [
    "mutable struct Trip{T<:AbstractFloat}\n",
    "    lon::Vector{T}\n",
    "    lat::Vector{T}\n",
    "    tms::Vector{T}\n",
    "    devid::Int64\n",
    "    roads::Vector{Any}\n",
    "    time::Vector{Any}\n",
    "    frac::Vector{Any}\n",
    "    route::Vector{Any}\n",
    "    route_heading::Vector{Any}\n",
    "    route_geom::Matrix{Any}\n",
    "end\n",
    "\n"
   ]
  },
  {
   "cell_type": "code",
   "execution_count": 24,
   "metadata": {},
   "outputs": [
    {
     "ename": "UndefVarError",
     "evalue": "UndefVarError: `documents` not defined in `Main`\nSuggestion: check for spelling errors or missing imports.",
     "output_type": "error",
     "traceback": [
      "UndefVarError: `documents` not defined in `Main`\n",
      "Suggestion: check for spelling errors or missing imports.\n",
      "\n",
      "Stacktrace:\n",
      " [1] top-level scope\n",
      "   @ ~/Code/Python/zhongtai/jl_notebook_cell_df34fa98e69747e1a8f8a730347b8e2f_W5sZmlsZQ==.jl:35"
     ]
    }
   ],
   "source": [
    "using Mongoc\n",
    "using BSON\n",
    "\n",
    "# documents = [BSON.BSON(Dict(\n",
    "#     \"longitudes\" => trip.lon,\n",
    "#     \"latitudes\" => trip.lat,\n",
    "#     \"timestamp\" => trip.tms,\n",
    "#     \"devid\" => trip.devid,\n",
    "#     \"roads\" => trip.roads,\n",
    "#     \"time\" => trip.time,\n",
    "#     \"frac\" => trip.frac,\n",
    "#     \"route\" => trip.route,\n",
    "#     \"route_heading\" => trip.route_heading,\n",
    "#     \"route_geom\" => trip.route_geom\n",
    "# )) for trip in trips]\n",
    "\n",
    "for trip in trips\n",
    "    converted_route_geom = [collect(row) for row in eachrow(trip.route_geom)]\n",
    "    loaded_trip = Dict(\n",
    "        \"longitudes\" => Vector{Float64}(trip.lon),\n",
    "        \"latitudes\" =>  Vector{Float64}(trip.lat),\n",
    "        \"timestamp\" =>  Vector{Int64}(trip.tms),\n",
    "        \"devid\" => Int64(trip.devid),\n",
    "        \"roads\" => Vector{Any}(trip.roads),\n",
    "        \"time\" => Vector{Any}(trip.time),\n",
    "        \"frac\" => Vector{Any}(trip.frac),\n",
    "        \"route\" => Vector{Any}(trip.route),\n",
    "        \"route_heading\" => Vector{Any}(trip.route_heading),\n",
    "        \"route_geom\" => converted_route_geom\n",
    "    )\n",
    "    bson_trip = Mongoc.BSON(loaded_trip)\n",
    "    Mongoc.insert_one(collection, bson_trip)\n",
    "end\n",
    "\n",
    "println(\"Inserted $(length(documents)) documents\")"
   ]
  }
 ],
 "metadata": {
  "kernelspec": {
   "display_name": "Julia 1.11.1",
   "language": "julia",
   "name": "julia-1.11"
  },
  "language_info": {
   "file_extension": ".jl",
   "mimetype": "application/julia",
   "name": "julia",
   "version": "1.11.1"
  }
 },
 "nbformat": 4,
 "nbformat_minor": 2
}
